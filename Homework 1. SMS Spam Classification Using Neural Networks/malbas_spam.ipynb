{
 "cells": [
  {
   "cell_type": "code",
   "execution_count": 1,
   "id": "c8a0f152",
   "metadata": {},
   "outputs": [
    {
     "data": {
      "text/html": [
       "<div>\n",
       "<style scoped>\n",
       "    .dataframe tbody tr th:only-of-type {\n",
       "        vertical-align: middle;\n",
       "    }\n",
       "\n",
       "    .dataframe tbody tr th {\n",
       "        vertical-align: top;\n",
       "    }\n",
       "\n",
       "    .dataframe thead th {\n",
       "        text-align: right;\n",
       "    }\n",
       "</style>\n",
       "<table border=\"1\" class=\"dataframe\">\n",
       "  <thead>\n",
       "    <tr style=\"text-align: right;\">\n",
       "      <th></th>\n",
       "      <th>label</th>\n",
       "      <th>Text</th>\n",
       "      <th>label_in_num</th>\n",
       "    </tr>\n",
       "  </thead>\n",
       "  <tbody>\n",
       "    <tr>\n",
       "      <th>0</th>\n",
       "      <td>ham</td>\n",
       "      <td>Go until jurong point, crazy.. Available only ...</td>\n",
       "      <td>0</td>\n",
       "    </tr>\n",
       "    <tr>\n",
       "      <th>1</th>\n",
       "      <td>ham</td>\n",
       "      <td>Ok lar... Joking wif u oni...</td>\n",
       "      <td>0</td>\n",
       "    </tr>\n",
       "    <tr>\n",
       "      <th>2</th>\n",
       "      <td>spam</td>\n",
       "      <td>Free entry in 2 a wkly comp to win FA Cup fina...</td>\n",
       "      <td>1</td>\n",
       "    </tr>\n",
       "    <tr>\n",
       "      <th>3</th>\n",
       "      <td>ham</td>\n",
       "      <td>U dun say so early hor... U c already then say...</td>\n",
       "      <td>0</td>\n",
       "    </tr>\n",
       "    <tr>\n",
       "      <th>4</th>\n",
       "      <td>ham</td>\n",
       "      <td>Nah I don't think he goes to usf, he lives aro...</td>\n",
       "      <td>0</td>\n",
       "    </tr>\n",
       "  </tbody>\n",
       "</table>\n",
       "</div>"
      ],
      "text/plain": [
       "  label                                               Text  label_in_num\n",
       "0   ham  Go until jurong point, crazy.. Available only ...             0\n",
       "1   ham                      Ok lar... Joking wif u oni...             0\n",
       "2  spam  Free entry in 2 a wkly comp to win FA Cup fina...             1\n",
       "3   ham  U dun say so early hor... U c already then say...             0\n",
       "4   ham  Nah I don't think he goes to usf, he lives aro...             0"
      ]
     },
     "execution_count": 1,
     "metadata": {},
     "output_type": "execute_result"
    }
   ],
   "source": [
    "#IMPORTING LIBRARIES-SET UP\n",
    "import numpy as np  \n",
    "import pandas as pd \n",
    "import matplotlib.pyplot as plt #for plots\n",
    "import seaborn as sns # for plots\n",
    "import tensorflow as tf # our main library, deep learning modellign\n",
    "from tensorflow import keras # keras library\n",
    "from tensorflow.keras import layers # for creating layers\n",
    "\n",
    "\n",
    "#DATASET READING AND FILTERING\n",
    "data = pd.read_csv(\"spam.csv\", encoding=\"latin-1\") # reading data\n",
    "data = data.drop(['Unnamed: 2', 'Unnamed: 3', 'Unnamed: 4'], axis=1)\n",
    "data = data.rename(columns={'v1':'label', 'v2':'Text'})\n",
    "data['label_in_num'] = data['label'].map({'ham':0,'spam':1})\n",
    "data.head() #shows the preview of the dataset"
   ]
  },
  {
   "cell_type": "markdown",
   "id": "b202261a",
   "metadata": {},
   "source": [
    "### To do: develop an accurate simple neural network model for spam classification (no LSTM, CNN, etc.)"
   ]
  },
  {
   "cell_type": "code",
   "execution_count": 2,
   "id": "cd035e26",
   "metadata": {},
   "outputs": [
    {
     "data": {
      "text/plain": [
       "Text(0.5, 0, 'Text length')"
      ]
     },
     "execution_count": 2,
     "metadata": {},
     "output_type": "execute_result"
    },
    {
     "data": {
      "image/png": "[encoded data removed]",
      "text/plain": [
       "<Figure size 432x288 with 1 Axes>"
      ]
     },
     "metadata": {
      "needs_background": "light"
     },
     "output_type": "display_data"
    }
   ],
   "source": [
    "###Plotting Diagrams\n",
    "sns.countplot(x=data['label']) # countplot for label\n",
    "data['label'].value_counts()\n",
    "\n",
    "\n",
    "\n",
    "plt.xlabel('Text length')"
   ]
  },
  {
   "cell_type": "code",
   "execution_count": 3,
   "id": "11e3141a",
   "metadata": {},
   "outputs": [
    {
     "data": {
      "text/plain": [
       "<AxesSubplot:ylabel='count'>"
      ]
     },
     "execution_count": 3,
     "metadata": {},
     "output_type": "execute_result"
    },
    {
     "data": {
      "image/png": "[encoded data removed]",
      "text/plain": [
       "<Figure size 432x288 with 1 Axes>"
      ]
     },
     "metadata": {
      "needs_background": "light"
     },
     "output_type": "display_data"
    }
   ],
   "source": [
    "#showing the intensity of the data\n",
    "sns.countplot(x=[len(data.loc[i]['Text']) for i in range(len(data))])"
   ]
  },
  {
   "cell_type": "code",
   "execution_count": 4,
   "id": "b3c47835",
   "metadata": {},
   "outputs": [
    {
     "name": "stdout",
     "output_type": "stream",
     "text": [
      "we have 86335 words in our Dataframe\n",
      "the average word count in every scentence is 15\n"
     ]
    },
    {
     "data": {
      "text/plain": [
       "([20, 6, 28, 11, 13], 86335, 15)"
      ]
     },
     "execution_count": 4,
     "metadata": {},
     "output_type": "execute_result"
    }
   ],
   "source": [
    "#CHECKING THE WORDS PER SENTENCE/DISTRIBUTION\n",
    "text_words_lengths = [len(data.loc[i]['Text'].split()) for i in range(0, len(data))]\n",
    "total_length = np.sum(text_words_lengths)\n",
    "text_words_mean = int(np.mean(text_words_lengths))\n",
    "print('we have ' + str(total_length) + ' words in our Dataframe')\n",
    "print('the average word count in every scentence is ' + str(text_words_mean))\n",
    "text_words_lengths[:5], total_length, text_words_mean"
   ]
  },
  {
   "cell_type": "code",
   "execution_count": 5,
   "id": "e077c4c3",
   "metadata": {},
   "outputs": [
    {
     "data": {
      "text/plain": [
       "(4457,\n",
       " 1115,\n",
       " array(['Kallis wont bat in 2nd innings.',\n",
       "        'Ringtone Club: Get the UK singles chart on your mobile each week and choose any top quality ringtone! This message is free of charge.'],\n",
       "       dtype=object),\n",
       " array([0, 1], dtype=int64))"
      ]
     },
     "execution_count": 5,
     "metadata": {},
     "output_type": "execute_result"
    }
   ],
   "source": [
    "##SETTING UP THE DATA FOR TRAINING\n",
    "\n",
    "from sklearn.model_selection import train_test_split\n",
    "\n",
    "X, y = np.asanyarray(data['Text']), np.asanyarray(data['label_in_num'])\n",
    "\n",
    "X_train, X_test, y_train, y_test = train_test_split(X, y, test_size=0.2, random_state=24)\n",
    "len(X_train), len(X_test), X_train[:2], y_train[:2]"
   ]
  },
  {
   "cell_type": "code",
   "execution_count": 6,
   "id": "e539a7a2",
   "metadata": {},
   "outputs": [],
   "source": [
    "#PREPARING THE DATA\n",
    "MAXTOKENS = total_length\n",
    "OUTPUTLEN = text_words_mean\n",
    "\n",
    "text_vec = layers.TextVectorization(\n",
    "    max_tokens=MAXTOKENS,\n",
    "    standardize='lower_and_strip_punctuation',\n",
    "    output_mode='int',\n",
    "    output_sequence_length=OUTPUTLEN\n",
    ")\n",
    "\n",
    "text_vec.adapt(X_train)\n",
    "\n",
    "embedding_layer = layers.Embedding(\n",
    "    input_dim=MAXTOKENS,\n",
    "    output_dim=128,\n",
    "    embeddings_initializer='uniform',\n",
    "    input_length=OUTPUTLEN\n",
    ")\n",
    "\n",
    "# Input layer\n",
    "input_layer = layers.Input(shape=(1,), dtype=tf.string)\n",
    "# Text Vectorizatino layer\n",
    "vec_layer = text_vec(input_layer)\n",
    "# Embedding layer\n",
    "embedding_layer_model = embedding_layer(vec_layer)\n",
    "# Global Average Pooling layer\n",
    "x = layers.GlobalAveragePooling1D()(embedding_layer_model)\n",
    "# Flatten layer for Dense layers\n",
    "x = layers.Flatten()(x)\n",
    "# 32 units dense layer\n",
    "x = layers.Dense(32, activation='relu')(x)\n",
    "# output layer with sigmoid activation function\n",
    "output_layer = layers.Dense(1, activation='sigmoid')(x)\n",
    "# final model\n",
    "model = keras.Model(input_layer, output_layer)"
   ]
  },
  {
   "cell_type": "code",
   "execution_count": 7,
   "id": "3e386b33",
   "metadata": {},
   "outputs": [],
   "source": [
    "#COMPILING\n",
    "model.compile(optimizer=keras.optimizers.Adam(),\n",
    "               loss=keras.losses.BinaryCrossentropy(label_smoothing=0.5),\n",
    "               metrics=['accuracy'])"
   ]
  },
  {
   "cell_type": "code",
   "execution_count": 8,
   "id": "087a0517",
   "metadata": {},
   "outputs": [
    {
     "name": "stdout",
     "output_type": "stream",
     "text": [
      "Epoch 1/40\n",
      "9/9 [==============================] - ETA: 0s - loss: 0.6820 - accuracy: 0.8517WARNING:tensorflow:Your input ran out of data; interrupting training. Make sure that your dataset or generator can generate at least `steps_per_epoch * epochs` batches (in this case, 223 batches). You may need to use the repeat() function when building your dataset.\n",
      "9/9 [==============================] - 6s 474ms/step - loss: 0.6820 - accuracy: 0.8517 - val_loss: 0.6684 - val_accuracy: 0.8744\n",
      "Epoch 2/40\n",
      "9/9 [==============================] - 1s 150ms/step - loss: 0.6561 - accuracy: 0.8739\n",
      "Epoch 3/40\n",
      "9/9 [==============================] - 1s 138ms/step - loss: 0.6270 - accuracy: 0.8869\n",
      "Epoch 4/40\n",
      "9/9 [==============================] - 1s 138ms/step - loss: 0.6021 - accuracy: 0.9087\n",
      "Epoch 5/40\n",
      "9/9 [==============================] - 1s 140ms/step - loss: 0.5882 - accuracy: 0.9365\n",
      "Epoch 6/40\n",
      "9/9 [==============================] - 1s 148ms/step - loss: 0.5818 - accuracy: 0.9628\n",
      "Epoch 7/40\n",
      "9/9 [==============================] - 1s 142ms/step - loss: 0.5761 - accuracy: 0.9800\n",
      "Epoch 8/40\n",
      "9/9 [==============================] - 1s 144ms/step - loss: 0.5720 - accuracy: 0.9841\n",
      "Epoch 9/40\n",
      "9/9 [==============================] - 1s 141ms/step - loss: 0.5697 - accuracy: 0.9868\n",
      "Epoch 10/40\n",
      "9/9 [==============================] - 1s 151ms/step - loss: 0.5683 - accuracy: 0.9901\n",
      "Epoch 11/40\n",
      "9/9 [==============================] - 1s 138ms/step - loss: 0.5674 - accuracy: 0.9912\n",
      "Epoch 12/40\n",
      "9/9 [==============================] - 1s 139ms/step - loss: 0.5667 - accuracy: 0.9935\n",
      "Epoch 13/40\n",
      "9/9 [==============================] - 1s 148ms/step - loss: 0.5662 - accuracy: 0.9951\n",
      "Epoch 14/40\n",
      "9/9 [==============================] - 1s 139ms/step - loss: 0.5657 - accuracy: 0.9962\n",
      "Epoch 15/40\n",
      "9/9 [==============================] - 1s 146ms/step - loss: 0.5653 - accuracy: 0.9962\n",
      "Epoch 16/40\n",
      "9/9 [==============================] - 1s 140ms/step - loss: 0.5650 - accuracy: 0.9971\n",
      "Epoch 17/40\n",
      "9/9 [==============================] - 1s 143ms/step - loss: 0.5647 - accuracy: 0.9973\n",
      "Epoch 18/40\n",
      "9/9 [==============================] - 1s 153ms/step - loss: 0.5645 - accuracy: 0.9975\n",
      "Epoch 19/40\n",
      "9/9 [==============================] - 1s 153ms/step - loss: 0.5642 - accuracy: 0.9982\n",
      "Epoch 20/40\n",
      "9/9 [==============================] - 1s 140ms/step - loss: 0.5641 - accuracy: 0.9982\n",
      "Epoch 21/40\n",
      "9/9 [==============================] - 1s 138ms/step - loss: 0.5639 - accuracy: 0.9982\n",
      "Epoch 22/40\n",
      "9/9 [==============================] - 1s 138ms/step - loss: 0.5638 - accuracy: 0.9984\n",
      "Epoch 23/40\n",
      "9/9 [==============================] - 1s 153ms/step - loss: 0.5636 - accuracy: 0.9987\n",
      "Epoch 24/40\n",
      "9/9 [==============================] - 1s 144ms/step - loss: 0.5635 - accuracy: 0.9991\n",
      "Epoch 25/40\n",
      "9/9 [==============================] - 1s 138ms/step - loss: 0.5634 - accuracy: 0.9991\n",
      "Epoch 26/40\n",
      "9/9 [==============================] - 1s 138ms/step - loss: 0.5633 - accuracy: 0.9991\n",
      "Epoch 27/40\n",
      "9/9 [==============================] - 1s 142ms/step - loss: 0.5632 - accuracy: 0.9993\n",
      "Epoch 28/40\n",
      "9/9 [==============================] - 1s 143ms/step - loss: 0.5632 - accuracy: 0.9996\n",
      "Epoch 29/40\n",
      "9/9 [==============================] - 1s 141ms/step - loss: 0.5631 - accuracy: 0.9996\n",
      "Epoch 30/40\n",
      "9/9 [==============================] - 1s 137ms/step - loss: 0.5630 - accuracy: 0.9996\n",
      "Epoch 31/40\n",
      "9/9 [==============================] - 1s 134ms/step - loss: 0.5630 - accuracy: 0.9996\n",
      "Epoch 32/40\n",
      "9/9 [==============================] - 1s 149ms/step - loss: 0.5629 - accuracy: 0.9996\n",
      "Epoch 33/40\n",
      "9/9 [==============================] - 1s 147ms/step - loss: 0.5629 - accuracy: 0.9996\n",
      "Epoch 34/40\n",
      "9/9 [==============================] - 1s 152ms/step - loss: 0.5628 - accuracy: 0.9996\n",
      "Epoch 35/40\n",
      "9/9 [==============================] - 1s 146ms/step - loss: 0.5628 - accuracy: 0.9996\n",
      "Epoch 36/40\n",
      "9/9 [==============================] - 1s 151ms/step - loss: 0.5628 - accuracy: 1.0000\n",
      "Epoch 37/40\n",
      "9/9 [==============================] - 1s 140ms/step - loss: 0.5627 - accuracy: 1.0000\n",
      "Epoch 38/40\n",
      "9/9 [==============================] - 1s 138ms/step - loss: 0.5627 - accuracy: 1.0000\n",
      "Epoch 39/40\n",
      "9/9 [==============================] - 1s 140ms/step - loss: 0.5627 - accuracy: 1.0000\n",
      "Epoch 40/40\n",
      "9/9 [==============================] - 1s 149ms/step - loss: 0.5627 - accuracy: 1.0000\n"
     ]
    }
   ],
   "source": [
    "#TRAINING\n",
    "history = model.fit(X_train,\n",
    "           y_train,\n",
    "           epochs=40,\n",
    "           batch_size=510,\n",
    "           validation_data=(X_test, y_test),\n",
    "           validation_steps=int(0.2 * len(X_test)))"
   ]
  },
  {
   "cell_type": "code",
   "execution_count": 9,
   "id": "a9f7a412",
   "metadata": {
    "scrolled": true
   },
   "outputs": [
    {
     "name": "stdout",
     "output_type": "stream",
     "text": [
      "Testing Accuracy 0.9839\n",
      "Testing Loss 0.5714\n"
     ]
    }
   ],
   "source": [
    "#TESTING OF FINAL ACCURACY AND LOSS \n",
    "loss, accuracy = model.evaluate(X_test, y_test, verbose=False)\n",
    "print(\"Testing Accuracy {:.4f}\".format(accuracy))\n",
    "loss, accuracy = model.evaluate(X_test, y_test, verbose=False)\n",
    "print(\"Testing Loss {:.4f}\".format(loss))"
   ]
  },
  {
   "cell_type": "code",
   "execution_count": 10,
   "id": "887f9308",
   "metadata": {},
   "outputs": [],
   "source": [
    "data.to_csv(\"malbas_spam_output.csv\")"
   ]
  },
  {
   "cell_type": "code",
   "execution_count": null,
   "id": "eaeb5e51",
   "metadata": {},
   "outputs": [],
   "source": []
  },
  {
   "cell_type": "code",
   "execution_count": 1,
   "id": "f122b203",
   "metadata": {},
   "outputs": [],
   "source": []
  },
  {
   "cell_type": "code",
   "execution_count": null,
   "id": "cec20296",
   "metadata": {},
   "outputs": [],
   "source": []
  },
  {
   "cell_type": "code",
   "execution_count": null,
   "id": "136b7e21",
   "metadata": {},
   "outputs": [],
   "source": []
  },
  {
   "cell_type": "code",
   "execution_count": null,
   "id": "f3e1ed49",
   "metadata": {},
   "outputs": [],
   "source": []
  },
  {
   "cell_type": "code",
   "execution_count": null,
   "id": "9e2d6920",
   "metadata": {},
   "outputs": [],
   "source": []
  },
  {
   "cell_type": "code",
   "execution_count": null,
   "id": "31274d66",
   "metadata": {},
   "outputs": [],
   "source": []
  },
  {
   "cell_type": "code",
   "execution_count": null,
   "id": "237fe9f8",
   "metadata": {},
   "outputs": [],
   "source": []
  },
  {
   "cell_type": "code",
   "execution_count": null,
   "id": "a9b3f6ff",
   "metadata": {},
   "outputs": [],
   "source": []
  },
  {
   "cell_type": "code",
   "execution_count": null,
   "id": "bf4d0a99",
   "metadata": {},
   "outputs": [],
   "source": []
  },
  {
   "cell_type": "code",
   "execution_count": null,
   "id": "7aa3a491",
   "metadata": {},
   "outputs": [],
   "source": []
  }
 ],
 "metadata": {
  "kernelspec": {
   "display_name": "Python 3 (ipykernel)",
   "language": "python",
   "name": "python3"
  },
  "language_info": {
   "codemirror_mode": {
    "name": "ipython",
    "version": 3
   },
   "file_extension": ".py",
   "mimetype": "text/x-python",
   "name": "python",
   "nbconvert_exporter": "python",
   "pygments_lexer": "ipython3",
   "version": "3.9.12"
  }
 },
 "nbformat": 4,
 "nbformat_minor": 5
}
