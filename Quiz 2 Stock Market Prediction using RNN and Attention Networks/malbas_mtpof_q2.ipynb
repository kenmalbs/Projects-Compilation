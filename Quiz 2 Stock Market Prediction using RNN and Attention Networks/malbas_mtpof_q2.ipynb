{
 "cells": [
  {
   "cell_type": "code",
   "execution_count": 1,
   "id": "aacd31b5",
   "metadata": {},
   "outputs": [],
   "source": [
    "import pandas as pd\n",
    "import numpy as np\n",
    "import math\n",
    "import pandas_datareader as pdd\n",
    "import tensorflow as tf\n",
    "import matplotlib.pyplot as plt\n",
    "from tensorflow.keras.models import Sequential\n",
    "from tensorflow.keras.layers import *\n",
    "from tensorflow.keras.callbacks import ModelCheckpoint\n",
    "from tensorflow.keras.losses import MeanSquaredError\n",
    "from tensorflow.keras.metrics import RootMeanSquaredError\n",
    "from tensorflow.keras.optimizers import Adam"
   ]
  },
  {
   "cell_type": "code",
   "execution_count": 2,
   "id": "59da87bc",
   "metadata": {},
   "outputs": [
    {
     "data": {
      "text/html": [
       "<div>\n",
       "<style scoped>\n",
       "    .dataframe tbody tr th:only-of-type {\n",
       "        vertical-align: middle;\n",
       "    }\n",
       "\n",
       "    .dataframe tbody tr th {\n",
       "        vertical-align: top;\n",
       "    }\n",
       "\n",
       "    .dataframe thead th {\n",
       "        text-align: right;\n",
       "    }\n",
       "</style>\n",
       "<table border=\"1\" class=\"dataframe\">\n",
       "  <thead>\n",
       "    <tr style=\"text-align: right;\">\n",
       "      <th></th>\n",
       "      <th>High</th>\n",
       "      <th>Low</th>\n",
       "      <th>Open</th>\n",
       "      <th>Close</th>\n",
       "      <th>Volume</th>\n",
       "      <th>Adj Close</th>\n",
       "    </tr>\n",
       "    <tr>\n",
       "      <th>Date</th>\n",
       "      <th></th>\n",
       "      <th></th>\n",
       "      <th></th>\n",
       "      <th></th>\n",
       "      <th></th>\n",
       "      <th></th>\n",
       "    </tr>\n",
       "  </thead>\n",
       "  <tbody>\n",
       "    <tr>\n",
       "      <th>2019-12-31</th>\n",
       "      <td>1.15929</td>\n",
       "      <td>1.15929</td>\n",
       "      <td>1.15929</td>\n",
       "      <td>1.15929</td>\n",
       "      <td>0.0</td>\n",
       "      <td>-0.058897</td>\n",
       "    </tr>\n",
       "    <tr>\n",
       "      <th>2020-01-02</th>\n",
       "      <td>1.15929</td>\n",
       "      <td>1.15929</td>\n",
       "      <td>1.15929</td>\n",
       "      <td>1.15929</td>\n",
       "      <td>0.0</td>\n",
       "      <td>-0.058897</td>\n",
       "    </tr>\n",
       "    <tr>\n",
       "      <th>2020-01-03</th>\n",
       "      <td>1.15929</td>\n",
       "      <td>1.15929</td>\n",
       "      <td>1.15929</td>\n",
       "      <td>1.15929</td>\n",
       "      <td>0.0</td>\n",
       "      <td>-0.058897</td>\n",
       "    </tr>\n",
       "    <tr>\n",
       "      <th>2020-01-06</th>\n",
       "      <td>1.15929</td>\n",
       "      <td>1.15929</td>\n",
       "      <td>1.15929</td>\n",
       "      <td>1.15929</td>\n",
       "      <td>0.0</td>\n",
       "      <td>-0.058897</td>\n",
       "    </tr>\n",
       "    <tr>\n",
       "      <th>2020-01-07</th>\n",
       "      <td>1.15929</td>\n",
       "      <td>1.15929</td>\n",
       "      <td>1.15929</td>\n",
       "      <td>1.15929</td>\n",
       "      <td>0.0</td>\n",
       "      <td>-0.058897</td>\n",
       "    </tr>\n",
       "    <tr>\n",
       "      <th>...</th>\n",
       "      <td>...</td>\n",
       "      <td>...</td>\n",
       "      <td>...</td>\n",
       "      <td>...</td>\n",
       "      <td>...</td>\n",
       "      <td>...</td>\n",
       "    </tr>\n",
       "    <tr>\n",
       "      <th>2022-10-04</th>\n",
       "      <td>0.84050</td>\n",
       "      <td>0.84050</td>\n",
       "      <td>0.84050</td>\n",
       "      <td>0.84050</td>\n",
       "      <td>0.0</td>\n",
       "      <td>0.840500</td>\n",
       "    </tr>\n",
       "    <tr>\n",
       "      <th>2022-10-05</th>\n",
       "      <td>0.84050</td>\n",
       "      <td>0.84050</td>\n",
       "      <td>0.84050</td>\n",
       "      <td>0.84050</td>\n",
       "      <td>0.0</td>\n",
       "      <td>0.840500</td>\n",
       "    </tr>\n",
       "    <tr>\n",
       "      <th>2022-10-06</th>\n",
       "      <td>0.84050</td>\n",
       "      <td>0.84050</td>\n",
       "      <td>0.84050</td>\n",
       "      <td>0.84050</td>\n",
       "      <td>0.0</td>\n",
       "      <td>0.840500</td>\n",
       "    </tr>\n",
       "    <tr>\n",
       "      <th>2022-10-07</th>\n",
       "      <td>0.84050</td>\n",
       "      <td>0.84050</td>\n",
       "      <td>0.84050</td>\n",
       "      <td>0.84050</td>\n",
       "      <td>0.0</td>\n",
       "      <td>0.840500</td>\n",
       "    </tr>\n",
       "    <tr>\n",
       "      <th>2022-10-10</th>\n",
       "      <td>0.84050</td>\n",
       "      <td>0.84050</td>\n",
       "      <td>0.84050</td>\n",
       "      <td>0.84050</td>\n",
       "      <td>0.0</td>\n",
       "      <td>0.840500</td>\n",
       "    </tr>\n",
       "  </tbody>\n",
       "</table>\n",
       "<p>700 rows × 6 columns</p>\n",
       "</div>"
      ],
      "text/plain": [
       "               High      Low     Open    Close  Volume  Adj Close\n",
       "Date                                                             \n",
       "2019-12-31  1.15929  1.15929  1.15929  1.15929     0.0  -0.058897\n",
       "2020-01-02  1.15929  1.15929  1.15929  1.15929     0.0  -0.058897\n",
       "2020-01-03  1.15929  1.15929  1.15929  1.15929     0.0  -0.058897\n",
       "2020-01-06  1.15929  1.15929  1.15929  1.15929     0.0  -0.058897\n",
       "2020-01-07  1.15929  1.15929  1.15929  1.15929     0.0  -0.058897\n",
       "...             ...      ...      ...      ...     ...        ...\n",
       "2022-10-04  0.84050  0.84050  0.84050  0.84050     0.0   0.840500\n",
       "2022-10-05  0.84050  0.84050  0.84050  0.84050     0.0   0.840500\n",
       "2022-10-06  0.84050  0.84050  0.84050  0.84050     0.0   0.840500\n",
       "2022-10-07  0.84050  0.84050  0.84050  0.84050     0.0   0.840500\n",
       "2022-10-10  0.84050  0.84050  0.84050  0.84050     0.0   0.840500\n",
       "\n",
       "[700 rows x 6 columns]"
      ]
     },
     "execution_count": 2,
     "metadata": {},
     "output_type": "execute_result"
    }
   ],
   "source": [
    "mtpof = pdd.DataReader('MTPOF', data_source='yahoo', start='2020-01-01', end = '2022-10-10')\n",
    "mtpof"
   ]
  },
  {
   "cell_type": "code",
   "execution_count": 3,
   "id": "174872a4",
   "metadata": {},
   "outputs": [
    {
     "data": {
      "text/plain": [
       "<bound method NDFrame.head of                High      Low     Open    Close  Volume  Adj Close\n",
       "Date                                                             \n",
       "2019-12-31  1.15929  1.15929  1.15929  1.15929     0.0  -0.058897\n",
       "2020-01-02  1.15929  1.15929  1.15929  1.15929     0.0  -0.058897\n",
       "2020-01-03  1.15929  1.15929  1.15929  1.15929     0.0  -0.058897\n",
       "2020-01-06  1.15929  1.15929  1.15929  1.15929     0.0  -0.058897\n",
       "2020-01-07  1.15929  1.15929  1.15929  1.15929     0.0  -0.058897\n",
       "...             ...      ...      ...      ...     ...        ...\n",
       "2022-10-04  0.84050  0.84050  0.84050  0.84050     0.0   0.840500\n",
       "2022-10-05  0.84050  0.84050  0.84050  0.84050     0.0   0.840500\n",
       "2022-10-06  0.84050  0.84050  0.84050  0.84050     0.0   0.840500\n",
       "2022-10-07  0.84050  0.84050  0.84050  0.84050     0.0   0.840500\n",
       "2022-10-10  0.84050  0.84050  0.84050  0.84050     0.0   0.840500\n",
       "\n",
       "[700 rows x 6 columns]>"
      ]
     },
     "execution_count": 3,
     "metadata": {},
     "output_type": "execute_result"
    }
   ],
   "source": [
    "# Take a look at the data\n",
    "mtpof.head"
   ]
  },
  {
   "cell_type": "code",
   "execution_count": 4,
   "id": "ffbae4a2",
   "metadata": {},
   "outputs": [
    {
     "data": {
      "text/plain": [
       "Index(['High', 'Low', 'Open', 'Close', 'Volume', 'Adj Close'], dtype='object')"
      ]
     },
     "execution_count": 4,
     "metadata": {},
     "output_type": "execute_result"
    }
   ],
   "source": [
    "# Check the column headings\n",
    "# We will use Adj Close for our training data.\n",
    "mtpof.columns"
   ]
  },
  {
   "cell_type": "code",
   "execution_count": 5,
   "id": "cbdb162f",
   "metadata": {},
   "outputs": [
    {
     "data": {
      "text/plain": [
       "<AxesSubplot:xlabel='Date'>"
      ]
     },
     "execution_count": 5,
     "metadata": {},
     "output_type": "execute_result"
    },
    {
     "data": {
      "image/png": "[encoded data removed]",
      "text/plain": [
       "<Figure size 432x288 with 1 Axes>"
      ]
     },
     "metadata": {
      "needs_background": "light"
     },
     "output_type": "display_data"
    }
   ],
   "source": [
    "# Slice out the Adj Close column for our study.\n",
    "# Take a look at the data.\n",
    "y = mtpof['Adj Close']\n",
    "y.index=mtpof.index\n",
    "y.plot()"
   ]
  },
  {
   "cell_type": "code",
   "execution_count": 6,
   "id": "a112a10e",
   "metadata": {},
   "outputs": [],
   "source": [
    "# Convert Pandas series to numpy ndarray for further processing.\n",
    "y = y.values"
   ]
  },
  {
   "cell_type": "code",
   "execution_count": 7,
   "id": "fb59f784",
   "metadata": {},
   "outputs": [
    {
     "name": "stdout",
     "output_type": "stream",
     "text": [
      "560\n"
     ]
    }
   ],
   "source": [
    "# Split data into trainning and testing using 80/20 ratio.\n",
    "training_size = int(y.size * 0.8)\n",
    "print(training_size)"
   ]
  },
  {
   "cell_type": "code",
   "execution_count": 8,
   "id": "9cbc4cb3",
   "metadata": {},
   "outputs": [],
   "source": [
    "# Data normalization using training data's mean and standard deviation.\n",
    "# y is a ndarray now and its dimension is 1.\n",
    "training_mean = y[:training_size].mean()\n",
    "training_std = y[:training_size].std()\n",
    "# standarize the data\n",
    "y = (y-training_mean)/training_std"
   ]
  },
  {
   "cell_type": "code",
   "execution_count": 9,
   "id": "ab841580",
   "metadata": {},
   "outputs": [
    {
     "data": {
      "text/plain": [
       "array([-1.31107056, -1.31107056, -1.31107056, -1.31107056, -1.31107056])"
      ]
     },
     "execution_count": 9,
     "metadata": {},
     "output_type": "execute_result"
    }
   ],
   "source": [
    "# Take a look at the training data\n",
    "y[0:5]"
   ]
  },
  {
   "cell_type": "code",
   "execution_count": 10,
   "id": "3ae37563",
   "metadata": {},
   "outputs": [],
   "source": [
    "# Define a function to prepare data.\n",
    "# The time series data are reorganized to form feature vectors and target values.\n",
    "# For example, let sHistory be 10. A datapoint as a target will have 10 immediately \n",
    "# previous 10 values in the time series for its feature vector. \n",
    "def data_preprocess(dataset, iStart, iEnd, sHistory):\n",
    "  data = []\n",
    "  target = []\n",
    "  # begin with sHistory to have historical data\n",
    "  iStart += sHistory\n",
    "  if iEnd is None:\n",
    "    iEnd = len(dataset)\n",
    "  for i in range(iStart, iEnd):\n",
    "    indices = range(i-sHistory, i)\n",
    "    data.append(np.reshape(dataset[indices], (sHistory, 1)))\n",
    "    target.append(dataset[i])\n",
    "  return np.array(data), np.array(target)"
   ]
  },
  {
   "cell_type": "code",
   "execution_count": 11,
   "id": "6bb49e5a",
   "metadata": {},
   "outputs": [],
   "source": [
    "# Let's define number of history data for training and split data into training nd testing datasets.\n",
    "past_history = 10\n",
    "xtrain, ytrain = data_preprocess(y, 0, training_size, past_history)\n",
    "xtest, ytest = data_preprocess(y, training_size, None, past_history)"
   ]
  },
  {
   "cell_type": "code",
   "execution_count": 12,
   "id": "32f76bd6",
   "metadata": {},
   "outputs": [
    {
     "data": {
      "text/plain": [
       "array([[3.61312618],\n",
       "       [3.61312618],\n",
       "       [3.61312618],\n",
       "       [3.61312618],\n",
       "       [3.61312618],\n",
       "       [3.61312618],\n",
       "       [3.61312618],\n",
       "       [3.61312618],\n",
       "       [3.61312618],\n",
       "       [3.61312618]])"
      ]
     },
     "execution_count": 12,
     "metadata": {},
     "output_type": "execute_result"
    }
   ],
   "source": [
    "# Take a look at data.\n",
    "xtest[0]"
   ]
  },
  {
   "cell_type": "code",
   "execution_count": 13,
   "id": "7db9a4ac",
   "metadata": {},
   "outputs": [
    {
     "data": {
      "text/plain": [
       "array([[3.61312618],\n",
       "       [3.61312618],\n",
       "       [3.61312618],\n",
       "       [3.61312618],\n",
       "       [3.61312618],\n",
       "       [3.61312618],\n",
       "       [3.61312618],\n",
       "       [3.61312618],\n",
       "       [3.61312618],\n",
       "       [3.61312618]])"
      ]
     },
     "execution_count": 13,
     "metadata": {},
     "output_type": "execute_result"
    }
   ],
   "source": [
    "# Take a look at data.\n",
    "xtest[1]"
   ]
  },
  {
   "cell_type": "code",
   "execution_count": 14,
   "id": "56f1c527",
   "metadata": {},
   "outputs": [],
   "source": [
    "# It's time to get Tensorflow library in and create an LSTM model.\n",
    "import tensorflow as tf\n",
    "# Setting seed to ensure reproducibility.\n",
    "tf.random.set_seed(8888)\n",
    "model = tf.keras.models.Sequential([\n",
    "  tf.keras.layers.LSTM(8, input_shape=xtrain.shape[-2:]),\n",
    "  tf.keras.layers.Dense(1)\n",
    "])"
   ]
  },
  {
   "cell_type": "code",
   "execution_count": 15,
   "id": "7a5560cc",
   "metadata": {
    "scrolled": true
   },
   "outputs": [
    {
     "name": "stdout",
     "output_type": "stream",
     "text": [
      "Model: \"sequential\"\n",
      "_________________________________________________________________\n",
      " Layer (type)                Output Shape              Param #   \n",
      "=================================================================\n",
      " lstm (LSTM)                 (None, 8)                 320       \n",
      "                                                                 \n",
      " dense (Dense)               (None, 1)                 9         \n",
      "                                                                 \n",
      "=================================================================\n",
      "Total params: 329\n",
      "Trainable params: 329\n",
      "Non-trainable params: 0\n",
      "_________________________________________________________________\n"
     ]
    }
   ],
   "source": [
    "# Take a look at the model you have just created.\n",
    "model.summary()"
   ]
  },
  {
   "cell_type": "code",
   "execution_count": 16,
   "id": "6698bedc",
   "metadata": {},
   "outputs": [],
   "source": [
    "# Before taining, you need to configure the model for training.\n",
    "model.compile(optimizer='Adam',\n",
    "              loss='mse')"
   ]
  },
  {
   "cell_type": "code",
   "execution_count": 17,
   "id": "a219138e",
   "metadata": {},
   "outputs": [],
   "source": [
    "BATCH_SIZE = 16\n",
    "BUFFER_SIZE = 10000\n",
    "\n",
    "p_train = tf.data.Dataset.from_tensor_slices((xtrain, ytrain))\n",
    "p_train = p_train.cache().shuffle(BUFFER_SIZE).batch(BATCH_SIZE).repeat()\n",
    "\n",
    "p_test = tf.data.Dataset.from_tensor_slices((xtest, ytest))\n",
    "p_test = p_test.batch(BATCH_SIZE).repeat()"
   ]
  },
  {
   "cell_type": "code",
   "execution_count": 18,
   "id": "f124d91f",
   "metadata": {},
   "outputs": [
    {
     "name": "stdout",
     "output_type": "stream",
     "text": [
      "Epoch 1/10\n",
      "200/200 [==============================] - 8s 11ms/step - loss: 0.4038 - val_loss: 114.1388\n",
      "Epoch 2/10\n",
      "200/200 [==============================] - 1s 7ms/step - loss: 0.1200 - val_loss: 110.9012\n",
      "Epoch 3/10\n",
      "200/200 [==============================] - 2s 7ms/step - loss: 0.1047 - val_loss: 103.3956\n",
      "Epoch 4/10\n",
      "200/200 [==============================] - 2s 8ms/step - loss: 0.0956 - val_loss: 88.3890\n",
      "Epoch 5/10\n",
      "200/200 [==============================] - 1s 7ms/step - loss: 0.0873 - val_loss: 86.1466\n",
      "Epoch 6/10\n",
      "200/200 [==============================] - 2s 8ms/step - loss: 0.0762 - val_loss: 84.8586\n",
      "Epoch 7/10\n",
      "200/200 [==============================] - 2s 8ms/step - loss: 0.0782 - val_loss: 83.2020\n",
      "Epoch 8/10\n",
      "200/200 [==============================] - 2s 8ms/step - loss: 0.0670 - val_loss: 81.9920\n",
      "Epoch 9/10\n",
      "200/200 [==============================] - 1s 7ms/step - loss: 0.0633 - val_loss: 80.8393\n",
      "Epoch 10/10\n",
      "200/200 [==============================] - 2s 7ms/step - loss: 0.0632 - val_loss: 79.7662\n"
     ]
    }
   ],
   "source": [
    "# For your model to be able to predict something, your need to train your model using training data.\n",
    "history = model.fit(p_train, epochs = 10, steps_per_epoch=200, validation_data=p_test, validation_steps=50)"
   ]
  },
  {
   "cell_type": "code",
   "execution_count": 19,
   "id": "1137caf7",
   "metadata": {},
   "outputs": [
    {
     "data": {
      "text/html": [
       "<div>\n",
       "<style scoped>\n",
       "    .dataframe tbody tr th:only-of-type {\n",
       "        vertical-align: middle;\n",
       "    }\n",
       "\n",
       "    .dataframe tbody tr th {\n",
       "        vertical-align: top;\n",
       "    }\n",
       "\n",
       "    .dataframe thead th {\n",
       "        text-align: right;\n",
       "    }\n",
       "</style>\n",
       "<table border=\"1\" class=\"dataframe\">\n",
       "  <thead>\n",
       "    <tr style=\"text-align: right;\">\n",
       "      <th></th>\n",
       "      <th>loss</th>\n",
       "      <th>val_loss</th>\n",
       "    </tr>\n",
       "  </thead>\n",
       "  <tbody>\n",
       "    <tr>\n",
       "      <th>0</th>\n",
       "      <td>0.403799</td>\n",
       "      <td>114.138824</td>\n",
       "    </tr>\n",
       "    <tr>\n",
       "      <th>1</th>\n",
       "      <td>0.120025</td>\n",
       "      <td>110.901230</td>\n",
       "    </tr>\n",
       "    <tr>\n",
       "      <th>2</th>\n",
       "      <td>0.104737</td>\n",
       "      <td>103.395645</td>\n",
       "    </tr>\n",
       "    <tr>\n",
       "      <th>3</th>\n",
       "      <td>0.095640</td>\n",
       "      <td>88.389008</td>\n",
       "    </tr>\n",
       "    <tr>\n",
       "      <th>4</th>\n",
       "      <td>0.087330</td>\n",
       "      <td>86.146553</td>\n",
       "    </tr>\n",
       "  </tbody>\n",
       "</table>\n",
       "</div>"
      ],
      "text/plain": [
       "       loss    val_loss\n",
       "0  0.403799  114.138824\n",
       "1  0.120025  110.901230\n",
       "2  0.104737  103.395645\n",
       "3  0.095640   88.389008\n",
       "4  0.087330   86.146553"
      ]
     },
     "execution_count": 19,
     "metadata": {},
     "output_type": "execute_result"
    }
   ],
   "source": [
    "# Convert training history to datafram for viewing and graphing.\n",
    "hist = pd.DataFrame(history.history)\n",
    "hist.head()"
   ]
  },
  {
   "cell_type": "code",
   "execution_count": 20,
   "id": "16559d7b",
   "metadata": {
    "scrolled": false
   },
   "outputs": [
    {
     "data": {
      "text/plain": [
       "<AxesSubplot:>"
      ]
     },
     "execution_count": 20,
     "metadata": {},
     "output_type": "execute_result"
    },
    {
     "data": {
      "image/png": "[encoded data removed]",
      "text/plain": [
       "<Figure size 432x288 with 1 Axes>"
      ]
     },
     "metadata": {
      "needs_background": "light"
     },
     "output_type": "display_data"
    }
   ],
   "source": [
    "# Training errors with respect to ecochs.\n",
    "# loss: values of the cost function for training data.\n",
    "# val_loss: values of the cost function for cross-validation data.\n",
    "hist.plot()"
   ]
  },
  {
   "cell_type": "code",
   "execution_count": 21,
   "id": "36dc15da",
   "metadata": {},
   "outputs": [
    {
     "name": "stdout",
     "output_type": "stream",
     "text": [
      "1/1 [==============================] - 1s 1s/step\n",
      "1/1 [==============================] - 0s 30ms/step\n",
      "1/1 [==============================] - 0s 101ms/step\n",
      "1/1 [==============================] - 0s 35ms/step\n",
      "1/1 [==============================] - 0s 36ms/step\n",
      "1/1 [==============================] - 0s 34ms/step\n",
      "1/1 [==============================] - 0s 26ms/step\n",
      "1/1 [==============================] - 0s 33ms/step\n",
      "1/1 [==============================] - 0s 30ms/step\n",
      "1/1 [==============================] - 0s 41ms/step\n",
      "1/1 [==============================] - 0s 52ms/step\n",
      "1/1 [==============================] - 0s 94ms/step\n",
      "1/1 [==============================] - 0s 38ms/step\n",
      "1/1 [==============================] - 0s 28ms/step\n",
      "1/1 [==============================] - 0s 39ms/step\n",
      "1/1 [==============================] - 0s 78ms/step\n",
      "1/1 [==============================] - 0s 30ms/step\n",
      "1/1 [==============================] - 0s 35ms/step\n",
      "1/1 [==============================] - 0s 31ms/step\n",
      "1/1 [==============================] - 0s 49ms/step\n"
     ]
    }
   ],
   "source": [
    "# Now, we can predict stock values after model is trained. \n",
    "# We keep the predicted values and target vlaues for graphics later.\n",
    "# You may run on p_train or p_test to check the preformance.\n",
    "predicted_value = []\n",
    "y_orig = []\n",
    "count =0;\n",
    "for x, y in p_train.take(20):\n",
    "  y_orig.append(y[0].numpy())\n",
    "  t_pred= model.predict(x)\n",
    "  predicted_value.append(t_pred[0])"
   ]
  },
  {
   "cell_type": "code",
   "execution_count": 22,
   "id": "74b6db73",
   "metadata": {},
   "outputs": [
    {
     "data": {
      "text/plain": [
       "<AxesSubplot:>"
      ]
     },
     "execution_count": 22,
     "metadata": {},
     "output_type": "execute_result"
    },
    {
     "data": {
      "image/png": "[encoded data removed]",
      "text/plain": [
       "<Figure size 432x288 with 1 Axes>"
      ]
     },
     "metadata": {
      "needs_background": "light"
     },
     "output_type": "display_data"
    }
   ],
   "source": [
    "# Plot the predicted value and the target values together.\n",
    "y_pred = [predicted_value[i][0] for i in range(len(predicted_value))]\n",
    "result = pd.DataFrame({'predicted':y_pred, 'target':y_orig})\n",
    "result.plot()"
   ]
  },
  {
   "cell_type": "code",
   "execution_count": 29,
   "id": "e6588dad",
   "metadata": {},
   "outputs": [],
   "source": [
    "result.to_csv('malbas_mtpof_forecast.csv')"
   ]
  }
 ],
 "metadata": {
  "kernelspec": {
   "display_name": "Python 3 (ipykernel)",
   "language": "python",
   "name": "python3"
  },
  "language_info": {
   "codemirror_mode": {
    "name": "ipython",
    "version": 3
   },
   "file_extension": ".py",
   "mimetype": "text/x-python",
   "name": "python",
   "nbconvert_exporter": "python",
   "pygments_lexer": "ipython3",
   "version": "3.9.12"
  }
 },
 "nbformat": 4,
 "nbformat_minor": 5
}
